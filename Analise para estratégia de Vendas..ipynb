{
 "cells": [
  {
   "cell_type": "code",
   "execution_count": null,
   "id": "82a0062d",
   "metadata": {},
   "outputs": [],
   "source": [
    "import pandas as pd\n",
    "\n",
    "tabela = pd.read_excel(\"Vendas.xlsx\")\n",
    "display(tabela)\n"
   ]
  },
  {
   "cell_type": "code",
   "execution_count": null,
   "id": "acccea34",
   "metadata": {},
   "outputs": [],
   "source": [
    "faturamento_total = tabela['Valor Final'].sum()\n",
    "print(faturamento_total)"
   ]
  },
  {
   "cell_type": "code",
   "execution_count": null,
   "id": "d0d7db8f",
   "metadata": {},
   "outputs": [],
   "source": [
    "faturamento_por_loja = tabela[[\"ID Loja\", \"Valor Final\"]].groupby(\"ID Loja\").sum()\n",
    "print(faturamento_por_loja)"
   ]
  },
  {
   "cell_type": "code",
   "execution_count": null,
   "id": "1503c424",
   "metadata": {},
   "outputs": [],
   "source": [
    "faturamento_por_produto = tabela[[\"ID Loja\",\"Produto\",\"Valor Final\"]].groupby([\"ID Loja\", \"Produto\"]).sum()\n",
    "print(faturamento_por_produto)"
   ]
  }
 ],
 "metadata": {
  "kernelspec": {
   "display_name": "Python 3 (ipykernel)",
   "language": "python",
   "name": "python3"
  },
  "language_info": {
   "codemirror_mode": {
    "name": "ipython",
    "version": 3
   },
   "file_extension": ".py",
   "mimetype": "text/x-python",
   "name": "python",
   "nbconvert_exporter": "python",
   "pygments_lexer": "ipython3",
   "version": "3.10.6"
  }
 },
 "nbformat": 4,
 "nbformat_minor": 5
}
